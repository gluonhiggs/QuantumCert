{
 "cells": [
  {
   "cell_type": "code",
   "execution_count": 2,
   "id": "d73e4f42",
   "metadata": {},
   "outputs": [],
   "source": [
    "import numpy as np\n",
    "from scipy.linalg import sqrtm"
   ]
  },
  {
   "cell_type": "code",
   "execution_count": 4,
   "id": "1a395bed",
   "metadata": {},
   "outputs": [
    {
     "name": "stdout",
     "output_type": "stream",
     "text": [
      "Fidelity estimate between rho and sigma: 0.9082568878345358\n",
      "The quantum state rho is NOT certified to be close to sigma.\n"
     ]
    },
    {
     "data": {
      "text/plain": [
       "False"
      ]
     },
     "execution_count": 4,
     "metadata": {},
     "output_type": "execute_result"
    }
   ],
   "source": [
    "import numpy as np\n",
    "from numpy.linalg import norm, eigh\n",
    "\n",
    "def generate_copies(state, num_copies):\n",
    "    \"\"\"Simulate `num_copies` of the given quantum state (density matrix).\"\"\"\n",
    "    return [state for _ in range(num_copies)]\n",
    "\n",
    "def fidelity(ρ, σ):\n",
    "    \"\"\"Calculate fidelity between two quantum states.\"\"\"\n",
    "    sqrt_rho = eigh(ρ)[1] @ np.diag(np.sqrt(np.clip(eigh(ρ)[0], 0, None))) @ eigh(ρ)[1].T\n",
    "    return (np.trace(sqrt_rho @ σ @ sqrt_rho))**0.5\n",
    "\n",
    "def fidelity_certification(ρ, σ, epsilon, d):\n",
    "    \"\"\"Perform fidelity-based quantum state certification.\"\"\"\n",
    "    # Number of copies required: n = O(d/epsilon)\n",
    "    n = int(d / epsilon)\n",
    "    copies = generate_copies(ρ, n)\n",
    "    \n",
    "    fidelities = [fidelity(copy, σ) for copy in copies]\n",
    "    average_fidelity = np.mean(fidelities)\n",
    "    \n",
    "    # If fidelity is >= 1 - epsilon, the states are considered close\n",
    "    if average_fidelity >= 1 - epsilon:\n",
    "        return \"close\"\n",
    "    else:\n",
    "        return \"far\"\n",
    "\n",
    "# Example usage:\n",
    "d = 4  # dimension of quantum states\n",
    "epsilon = 0.1\n",
    "rho = np.array([[0.6, 0.4], [0.4, 0.4]])  # example density matrix\n",
    "sigma = np.array([[0.5, 0.5], [0.5, 0.5]])  # example target state\n",
    "\n",
    "result = fidelity_certification(rho, sigma, epsilon, d)\n",
    "print(f\"Result of fidelity certification: {result}\")\n"
   ]
  },
  {
   "cell_type": "code",
   "execution_count": null,
   "id": "31e9d509",
   "metadata": {},
   "outputs": [],
   "source": []
  }
 ],
 "metadata": {
  "kernelspec": {
   "display_name": "Python 3 (ipykernel)",
   "language": "python",
   "name": "python3"
  },
  "language_info": {
   "codemirror_mode": {
    "name": "ipython",
    "version": 3
   },
   "file_extension": ".py",
   "mimetype": "text/x-python",
   "name": "python",
   "nbconvert_exporter": "python",
   "pygments_lexer": "ipython3",
   "version": "3.11.5"
  }
 },
 "nbformat": 4,
 "nbformat_minor": 5
}
